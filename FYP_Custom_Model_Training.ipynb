{
 "cells": [
  {
   "cell_type": "markdown",
   "metadata": {},
   "source": [
    "# Custom Model Training"
   ]
  },
  {
   "cell_type": "code",
   "execution_count": null,
   "metadata": {
    "executionInfo": {
     "elapsed": 210,
     "status": "ok",
     "timestamp": 1617446624891,
     "user": {
      "displayName": "Jack Cannings",
      "photoUrl": "",
      "userId": "05152128778282681878"
     },
     "user_tz": -60
    },
    "id": "H5XFETmx8Y6r"
   },
   "outputs": [],
   "source": [
    "import ml_models\n",
    "from collections import Counter\n",
    "from keras.models import Model\n",
    "from keras.models import Sequential\n",
    "from keras.layers import Dense, Conv2D, MaxPooling2D, Dropout, Flatten\n",
    "import numpy as np \n",
    "import os"
   ]
  },
  {
   "cell_type": "markdown",
   "metadata": {},
   "source": [
    "## Data Prep"
   ]
  },
  {
   "cell_type": "code",
   "execution_count": null,
   "metadata": {},
   "outputs": [],
   "source": [
    "training_x = np.load('FYP/training_x.npy', allow_pickle=True)\n",
    "training_y = np.load('FYP/training_y.npy', allow_pickle=True)\n",
    "testing_x = np.load('FYP/testing_x.npy', allow_pickle=True)\n",
    "testing_y = np.load('FYP/testing_y.npy', allow_pickle=True)"
   ]
  },
  {
   "cell_type": "code",
   "execution_count": null,
   "metadata": {},
   "outputs": [],
   "source": [
    "print(f'Training Images: {len(training_x)} \\nTraining Labels: {len(training_y)} \\nTesting Images: {len(testing_x)} \\nTesting Labels: {len(testing_y)}')"
   ]
  },
  {
   "cell_type": "code",
   "execution_count": null,
   "metadata": {},
   "outputs": [],
   "source": [
    "test_labels_dist = np.argmax(testing_y, axis=1)\n",
    "training_labels_dist = np.argmax(training_y, axis=1)"
   ]
  },
  {
   "cell_type": "code",
   "execution_count": null,
   "metadata": {},
   "outputs": [],
   "source": [
    "print(f'{Counter(test_labels_dist)} --- {Counter(training_labels_dist)}')"
   ]
  },
  {
   "cell_type": "markdown",
   "metadata": {},
   "source": [
    "## Model Training"
   ]
  },
  {
   "cell_type": "code",
   "execution_count": null,
   "metadata": {
    "executionInfo": {
     "elapsed": 34,
     "status": "ok",
     "timestamp": 1617447099255,
     "user": {
      "displayName": "Jack Cannings",
      "photoUrl": "",
      "userId": "05152128778282681878"
     },
     "user_tz": -60
    },
    "id": "dHDRAn-WWLXU"
   },
   "outputs": [],
   "source": [
    "model = ml_models.createCustomModel()"
   ]
  },
  {
   "cell_type": "code",
   "execution_count": null,
   "metadata": {
    "colab": {
     "base_uri": "https://localhost:8080/"
    },
    "executionInfo": {
     "elapsed": 24,
     "status": "ok",
     "timestamp": 1617447191894,
     "user": {
      "displayName": "Jack Cannings",
      "photoUrl": "",
      "userId": "05152128778282681878"
     },
     "user_tz": -60
    },
    "id": "uQ6R0rDtW75_",
    "outputId": "2967999c-35e1-4ab8-a71f-0e7d7ed99cf6"
   },
   "outputs": [],
   "source": [
    "model.summary()"
   ]
  },
  {
   "cell_type": "code",
   "execution_count": null,
   "metadata": {
    "colab": {
     "base_uri": "https://localhost:8080/",
     "height": 312
    },
    "executionInfo": {
     "elapsed": 129,
     "status": "ok",
     "timestamp": 1617447201335,
     "user": {
      "displayName": "Jack Cannings",
      "photoUrl": "",
      "userId": "05152128778282681878"
     },
     "user_tz": -60
    },
    "id": "hQGxkGV2wNbX",
    "outputId": "b4bbf491-8021-4199-e946-4225b0a42cf2"
   },
   "outputs": [],
   "source": [
    "#from keras.utils.vis_utils import plot_model\n",
    "#plot_model(model, to_file='model_plot.png', show_shapes=True, show_layer_names=True)\n"
   ]
  },
  {
   "cell_type": "code",
   "execution_count": null,
   "metadata": {
    "colab": {
     "base_uri": "https://localhost:8080/"
    },
    "id": "ItLHhQ2EXnSc",
    "outputId": "715b01b9-1b7f-46e1-8db7-df0adc177d22"
   },
   "outputs": [],
   "source": [
    "history = model.fit(training_x, training_y, batch_size=32, epochs=50, verbose=1, \n",
    "                     validation_split=0.2, shuffle=True)"
   ]
  },
  {
   "cell_type": "code",
   "execution_count": null,
   "metadata": {},
   "outputs": [],
   "source": [
    "plt.plot(history.history['accuracy'])\n",
    "plt.plot(history.history['val_accuracy'])\n",
    "plt.title('model accuracy')\n",
    "plt.ylabel('accuracy')\n",
    "plt.xlabel('epoch')\n",
    "plt.legend(['train', 'validation'], loc='upper left')\n",
    "plt.show()\n",
    "# \"Loss\"\n",
    "plt.plot(history.history['loss'])\n",
    "plt.plot(history.history['val_loss'])\n",
    "plt.title('model loss')\n",
    "plt.ylabel('loss')\n",
    "plt.xlabel('epoch')\n",
    "plt.legend(['train', 'validation'], loc='upper left')\n",
    "plt.show()"
   ]
  },
  {
   "cell_type": "code",
   "execution_count": null,
   "metadata": {},
   "outputs": [],
   "source": [
    "#np.save('model_name.npy',history.history)\n",
    "#history=np.load('custom_model_history.npy',allow_pickle='TRUE').item()"
   ]
  },
  {
   "cell_type": "code",
   "execution_count": null,
   "metadata": {
    "colab": {
     "base_uri": "https://localhost:8080/"
    },
    "executionInfo": {
     "elapsed": 3471,
     "status": "ok",
     "timestamp": 1617447087325,
     "user": {
      "displayName": "Jack Cannings",
      "photoUrl": "",
      "userId": "05152128778282681878"
     },
     "user_tz": -60
    },
    "id": "hDLKk0ewYZ3B",
    "outputId": "62f276c2-b5f3-4f5a-96aa-98dae6dbfeaf"
   },
   "outputs": [],
   "source": [
    "#model.save('FYP/custom')"
   ]
  },
  {
   "cell_type": "code",
   "execution_count": null,
   "metadata": {},
   "outputs": [],
   "source": [
    "#model.save_weights(\"FYP/custom50epochs\")"
   ]
  }
 ],
 "metadata": {
  "colab": {
   "authorship_tag": "ABX9TyMLw4W/+dbTgJ8YCYaMh+5m",
   "name": "Merged Dataset and Model.ipynb",
   "provenance": []
  },
  "kernelspec": {
   "display_name": "Python 3",
   "language": "python",
   "name": "python3"
  },
  "language_info": {
   "codemirror_mode": {
    "name": "ipython",
    "version": 3
   },
   "file_extension": ".py",
   "mimetype": "text/x-python",
   "name": "python",
   "nbconvert_exporter": "python",
   "pygments_lexer": "ipython3",
   "version": "3.8.8"
  }
 },
 "nbformat": 4,
 "nbformat_minor": 1
}
