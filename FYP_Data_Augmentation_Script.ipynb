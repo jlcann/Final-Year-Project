{
 "cells": [
  {
   "cell_type": "markdown",
   "metadata": {},
   "source": [
    "# Data Augmentation script using functions from data_processing.py"
   ]
  },
  {
   "cell_type": "code",
   "execution_count": 31,
   "metadata": {},
   "outputs": [],
   "source": [
    "import numpy as np\n",
    "from numpy.random import seed\n",
    "seed(32412)\n",
    "import random\n",
    "from keras.layers import Input\n",
    "from keras.models import Model\n",
    "from keras.models import Sequential\n",
    "from keras.layers import Dense, Conv2D, MaxPooling2D, Dropout, Flatten\n",
    "from collections import Counter\n",
    "\n",
    "from data_processing import loadDatasetOne, loadDatasetTwo, resizeImages, augmentImages, rgb2Gray, rotateDatasetOne"
   ]
  },
  {
   "cell_type": "code",
   "execution_count": 2,
   "metadata": {},
   "outputs": [],
   "source": [
    "imagesTwo, labelsTwo = loadDatasetTwo()"
   ]
  },
  {
   "cell_type": "code",
   "execution_count": 3,
   "metadata": {},
   "outputs": [],
   "source": [
    "imagesTwo = resizeImages(imagesTwo, 2)"
   ]
  },
  {
   "cell_type": "code",
   "execution_count": 4,
   "metadata": {},
   "outputs": [],
   "source": [
    "imagesOne, labelsOne = loadDatasetOne()"
   ]
  },
  {
   "cell_type": "code",
   "execution_count": 5,
   "metadata": {},
   "outputs": [],
   "source": [
    "gliomaImages = []\n",
    "gliomaLabels = []\n",
    "\n",
    "meningiomaImages = []\n",
    "meningiomaLabels = []\n",
    "\n",
    "noneImages = []\n",
    "noneLabels = []\n",
    "\n",
    "pituitaryImages = []\n",
    "pituitaryLabels = []"
   ]
  },
  {
   "cell_type": "code",
   "execution_count": 6,
   "metadata": {},
   "outputs": [],
   "source": [
    "for image, label in list(zip(imagesTwo, labelsTwo)):\n",
    "    if label == 'glioma_tumor':\n",
    "        gliomaImages.append(image)\n",
    "        gliomaLabels.append(label)\n",
    "        \n",
    "    if label == 'meningioma_tumor':\n",
    "        meningiomaImages.append(image)\n",
    "        meningiomaLabels.append(label)\n",
    "        \n",
    "    if label == 'no_tumor':\n",
    "        noneImages.append(image)\n",
    "        noneLabels.append(label)\n",
    "        \n",
    "    if label == 'pituitary_tumor':\n",
    "        pituitaryImages.append(image)\n",
    "        pituitaryLabels.append(label)\n",
    "        "
   ]
  },
  {
   "cell_type": "code",
   "execution_count": 7,
   "metadata": {},
   "outputs": [
    {
     "name": "stdout",
     "output_type": "stream",
     "text": [
      "916 -- 927 -- 490 -- 891\n"
     ]
    }
   ],
   "source": [
    "print(f'{len(gliomaLabels)} -- {len(meningiomaLabels)} -- {len(noneLabels)} -- {len(pituitaryLabels)}')"
   ]
  },
  {
   "cell_type": "code",
   "execution_count": 8,
   "metadata": {},
   "outputs": [],
   "source": [
    "noneAug1, noneAug1Lab = augmentImages(noneImages, noneLabels)\n",
    "noneAug2, noneAug2Lab = augmentImages(noneImages, noneLabels)\n",
    "noneAug3, noneAug3Lab = augmentImages(noneImages, noneLabels)\n",
    "noneAug4, noneAug4Lab = augmentImages(noneImages, noneLabels)\n",
    "noneAug5, noneAug5Lab = augmentImages(noneImages, noneLabels)"
   ]
  },
  {
   "cell_type": "code",
   "execution_count": 11,
   "metadata": {},
   "outputs": [],
   "source": [
    "noneImages = np.concatenate((noneImages, noneAug1, noneAug2, noneAug3, noneAug4, noneAug5))\n",
    "noneLabels = np.concatenate((noneLabels, noneAug1Lab, noneAug2Lab, noneAug3Lab, noneAug4Lab, noneAug5Lab ))"
   ]
  },
  {
   "cell_type": "code",
   "execution_count": 12,
   "metadata": {},
   "outputs": [],
   "source": [
    "gliomaAug, gliomaAugLab = augmentImages(gliomaImages, gliomaLabels)"
   ]
  },
  {
   "cell_type": "code",
   "execution_count": 13,
   "metadata": {},
   "outputs": [],
   "source": [
    "gliomaImages = np.concatenate((gliomaImages, gliomaAug))\n",
    "gliomaLabels = np.concatenate((gliomaLabels, gliomaAugLab))"
   ]
  },
  {
   "cell_type": "code",
   "execution_count": 14,
   "metadata": {},
   "outputs": [],
   "source": [
    "meningiomaAug, meningiomaAugLabels = augmentImages(meningiomaImages, meningiomaLabels)"
   ]
  },
  {
   "cell_type": "code",
   "execution_count": 15,
   "metadata": {},
   "outputs": [],
   "source": [
    "meningiomaImages = np.concatenate((meningiomaImages, meningiomaAug))\n",
    "meningiomaLabels = np.concatenate((meningiomaLabels, meningiomaAugLabels))"
   ]
  },
  {
   "cell_type": "code",
   "execution_count": 16,
   "metadata": {},
   "outputs": [],
   "source": [
    "pituitaryImagesAug, pituitaryLabelsAug = augmentImages(pituitaryImages, pituitaryLabels)"
   ]
  },
  {
   "cell_type": "code",
   "execution_count": 17,
   "metadata": {},
   "outputs": [],
   "source": [
    "pituitaryImages = np.concatenate((pituitaryImages, pituitaryImagesAug))\n",
    "pituitaryLabels = np.concatenate((pituitaryLabels, pituitaryLabelsAug))"
   ]
  },
  {
   "cell_type": "code",
   "execution_count": 18,
   "metadata": {},
   "outputs": [
    {
     "name": "stdout",
     "output_type": "stream",
     "text": [
      "Glioma: 1832 -- 1832\n",
      "Meningioma: 1854 -- 1854\n",
      "Pituitary: 1782 -- 1782\n",
      "None: 2940 -- 2940\n"
     ]
    }
   ],
   "source": [
    "print(f'Glioma: {len(gliomaImages)} -- {len(gliomaLabels)}')\n",
    "print(f'Meningioma: {len(meningiomaImages)} -- {len(meningiomaLabels)}')\n",
    "print(f'Pituitary: {len(pituitaryImages)} -- {len(pituitaryLabels)}')\n",
    "print(f'None: {len(noneImages)} -- {len(noneLabels)}')"
   ]
  },
  {
   "cell_type": "code",
   "execution_count": 20,
   "metadata": {},
   "outputs": [],
   "source": [
    "datasetTwoImages = np.concatenate((gliomaImages, meningiomaImages, pituitaryImages, noneImages))\n",
    "datasetTwoLabels = np.concatenate((gliomaLabels, meningiomaLabels, pituitaryLabels, noneLabels))"
   ]
  },
  {
   "cell_type": "code",
   "execution_count": 21,
   "metadata": {},
   "outputs": [],
   "source": [
    "datasetTwoImages = rgb2Gray(datasetTwoImages)"
   ]
  },
  {
   "cell_type": "code",
   "execution_count": 22,
   "metadata": {},
   "outputs": [],
   "source": [
    "ds2Images = []\n",
    "for i in datasetTwoImages:\n",
    "    ds2Images.append(i)"
   ]
  },
  {
   "cell_type": "code",
   "execution_count": 23,
   "metadata": {},
   "outputs": [],
   "source": [
    "datasetTwo = [ds2Images, datasetTwoLabels]"
   ]
  },
  {
   "cell_type": "code",
   "execution_count": 24,
   "metadata": {},
   "outputs": [],
   "source": [
    "#np.save('FYP/datasetTwoNEW.npy', datasetTwo)"
   ]
  },
  {
   "cell_type": "code",
   "execution_count": 25,
   "metadata": {},
   "outputs": [],
   "source": [
    "#datasetTwoImages, datasetTwoLabels = np.load('FYP/datasetTwo.npy', allow_pickle=True)"
   ]
  },
  {
   "cell_type": "code",
   "execution_count": 26,
   "metadata": {},
   "outputs": [],
   "source": [
    "imagesOne = resizeImages(imagesOne, 1)"
   ]
  },
  {
   "cell_type": "code",
   "execution_count": 33,
   "metadata": {},
   "outputs": [],
   "source": [
    "imagesOne, labelsOne = rotateDatasetOne(imagesOne, labelsOne)"
   ]
  },
  {
   "cell_type": "code",
   "execution_count": 34,
   "metadata": {},
   "outputs": [],
   "source": [
    "ds1glioma = []\n",
    "ds1gliomalab = []\n",
    "\n",
    "ds1men = []\n",
    "ds1menlab = []\n",
    "\n",
    "ds1pit = []\n",
    "ds1pitlab = []\n",
    "\n",
    "for image, label in list(zip(imagesOne, labelsOne)):\n",
    "    \n",
    "    if label == 0:\n",
    "        ds1men.append(image)\n",
    "        ds1menlab.append(label)\n",
    "        \n",
    "    if label == 1:\n",
    "        ds1glioma.append(image)\n",
    "        ds1gliomalab.append(label)\n",
    "        \n",
    "    if label == 2:\n",
    "        ds1pit.append(image)\n",
    "        ds1pitlab.append(label)\n",
    "    "
   ]
  },
  {
   "cell_type": "code",
   "execution_count": 35,
   "metadata": {},
   "outputs": [
    {
     "name": "stdout",
     "output_type": "stream",
     "text": [
      " men - 708 -- 708\n",
      " glio - 1426 -- 1426\n",
      " pt - 925 -- 925\n"
     ]
    }
   ],
   "source": [
    "print(f' men - {len(ds1men)} -- {len(ds1menlab)}')\n",
    "print(f' glio - {len(ds1glioma)} -- {len(ds1gliomalab)}')\n",
    "print(f' pt - {len(ds1pit)} -- {len(ds1pitlab)}')"
   ]
  },
  {
   "cell_type": "code",
   "execution_count": 36,
   "metadata": {},
   "outputs": [],
   "source": [
    "newGlio = []\n",
    "newGlioLab = []\n",
    "for i in range (0, 700):\n",
    "    newGlio.append(ds1glioma[i])\n",
    "    newGlioLab.append(ds1gliomalab[i])"
   ]
  },
  {
   "cell_type": "code",
   "execution_count": 37,
   "metadata": {},
   "outputs": [
    {
     "name": "stdout",
     "output_type": "stream",
     "text": [
      " pt - 700 -- 700\n"
     ]
    }
   ],
   "source": [
    "print(f' pt - {len(newGlio)} -- {len(newGlioLab)}')"
   ]
  },
  {
   "cell_type": "code",
   "execution_count": 38,
   "metadata": {},
   "outputs": [
    {
     "data": {
      "text/plain": [
       "(256, 256, 1)"
      ]
     },
     "execution_count": 38,
     "metadata": {},
     "output_type": "execute_result"
    }
   ],
   "source": [
    "ds1pit[1].shape"
   ]
  },
  {
   "cell_type": "code",
   "execution_count": 39,
   "metadata": {},
   "outputs": [],
   "source": [
    "datasetOneImages = np.concatenate((newGlio, ds1men, ds1pit))\n",
    "datasetOneLabels = np.concatenate((newGlioLab, ds1menlab, ds1pitlab))"
   ]
  },
  {
   "cell_type": "code",
   "execution_count": 40,
   "metadata": {},
   "outputs": [
    {
     "data": {
      "text/plain": [
       "(2333, 256, 256, 1)"
      ]
     },
     "execution_count": 40,
     "metadata": {},
     "output_type": "execute_result"
    }
   ],
   "source": [
    "datasetOneImages.shape"
   ]
  },
  {
   "cell_type": "code",
   "execution_count": 41,
   "metadata": {},
   "outputs": [],
   "source": [
    "datasetOneImagesAugmented, datasetOneLabelsAugmented = augmentImages(datasetOneImages, datasetOneLabels)"
   ]
  },
  {
   "cell_type": "code",
   "execution_count": 42,
   "metadata": {},
   "outputs": [],
   "source": [
    "datasetOneImages = np.concatenate((datasetOneImages, datasetOneImagesAugmented))\n",
    "datasetOneLabels = np.concatenate((datasetOneLabels, datasetOneLabelsAugmented))"
   ]
  },
  {
   "cell_type": "code",
   "execution_count": 43,
   "metadata": {},
   "outputs": [
    {
     "data": {
      "text/plain": [
       "4666"
      ]
     },
     "execution_count": 43,
     "metadata": {},
     "output_type": "execute_result"
    }
   ],
   "source": [
    "ds1images = []\n",
    "for i in datasetOneImages:\n",
    "    ds1images.append(i)\n",
    "len(ds1images)"
   ]
  },
  {
   "cell_type": "code",
   "execution_count": 44,
   "metadata": {},
   "outputs": [],
   "source": [
    "datasetOne = [ds1images, datasetOneLabels]"
   ]
  },
  {
   "cell_type": "code",
   "execution_count": null,
   "metadata": {},
   "outputs": [],
   "source": [
    "#np.save('FYP/datasetOneNEW.npy', datasetOne)"
   ]
  },
  {
   "cell_type": "code",
   "execution_count": null,
   "metadata": {},
   "outputs": [],
   "source": []
  }
 ],
 "metadata": {
  "colab": {
   "name": "Data Augmentation Testing.ipynb",
   "provenance": []
  },
  "kernelspec": {
   "display_name": "Python 3",
   "language": "python",
   "name": "python3"
  },
  "language_info": {
   "codemirror_mode": {
    "name": "ipython",
    "version": 3
   },
   "file_extension": ".py",
   "mimetype": "text/x-python",
   "name": "python",
   "nbconvert_exporter": "python",
   "pygments_lexer": "ipython3",
   "version": "3.8.8"
  }
 },
 "nbformat": 4,
 "nbformat_minor": 1
}
